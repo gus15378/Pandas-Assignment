{
 "cells": [
  {
   "cell_type": "markdown",
   "metadata": {},
   "source": [
    "### Note\n",
    "* Instructions have been included for each segment. You do not have to follow them exactly, but they are included to help you think through the steps."
   ]
  },
  {
   "cell_type": "code",
   "execution_count": null,
   "metadata": {},
   "outputs": [],
   "source": [
    "# Dependencies and Setup\n",
    "import pandas as pd\n",
    "\n",
    "# File to Load (Remember to Change These)\n",
    "file_to_load = \"Resources/purchase_data.csv\"\n",
    "\n",
    "# Read Purchasing File and store into Pandas data frame\n",
    "purchase_data = pd.read_csv(file_to_load)\n",
    "purchase_data.head()"
   ]
  },
  {
   "cell_type": "markdown",
   "metadata": {},
   "source": [
    "## Player Count"
   ]
  },
  {
   "cell_type": "markdown",
   "metadata": {},
   "source": [
    "* Display the total number of players\n"
   ]
  },
  {
   "cell_type": "code",
   "execution_count": null,
   "metadata": {},
   "outputs": [],
   "source": [
    "Players_list = purchase_data['SN']\n",
    "Players_set = set(TotalPlayers)\n",
    "TotalPlayer = len(Players_set)\n",
    "\n",
    "print(f\"The total number of players is {TotalPlayer}\")"
   ]
  },
  {
   "cell_type": "markdown",
   "metadata": {},
   "source": [
    "## Purchasing Analysis (Total)"
   ]
  },
  {
   "cell_type": "markdown",
   "metadata": {},
   "source": [
    "* Run basic calculations to obtain number of unique items, average price, etc.\n",
    "\n",
    "\n",
    "* Create a summary data frame to hold the results\n",
    "\n",
    "\n",
    "* Optional: give the displayed data cleaner formatting\n",
    "\n",
    "\n",
    "* Display the summary data frame\n"
   ]
  },
  {
   "cell_type": "code",
   "execution_count": null,
   "metadata": {
    "scrolled": true
   },
   "outputs": [],
   "source": [
    "ItemList = purchase_data['Item ID']\n",
    "ItemSet = set(Item_list)\n",
    "U_Item = len(Item_Set)\n",
    "\n",
    "AvePrice = purchase_data['Price'].mean()\n",
    "TotalSale = purchase_data['Price'].sum()\n",
    "TotalTransaction = purchase_data['Purchase ID'].count()\n",
    "\n",
    "ItemData = [[U_Item, AvePrice, TotalSale]]\n",
    "ItemTable = pd.DataFrame({\"Number of Unique Items\":[U_Item],\n",
    "                        \"Average Item Price\": [AvePrice],\n",
    "                        \"Total Sales\":[TotalSale],\n",
    "                        \"Number of Transactions\":[TotalTransaction]})\n",
    "ItemTable.style.format({'Average Item Price':\"${:,.2f}\",\n",
    "                       'Total Sales': '${:,.2f}'})\n"
   ]
  },
  {
   "cell_type": "markdown",
   "metadata": {},
   "source": [
    "## Gender Demographics"
   ]
  },
  {
   "cell_type": "markdown",
   "metadata": {},
   "source": [
    "* Percentage and Count of Male Players\n",
    "\n",
    "\n",
    "* Percentage and Count of Female Players\n",
    "\n",
    "\n",
    "* Percentage and Count of Other / Non-Disclosed\n",
    "\n",
    "\n"
   ]
  },
  {
   "cell_type": "code",
   "execution_count": null,
   "metadata": {},
   "outputs": [],
   "source": [
    "GenderGroup = purchase_data.groupby(\"Gender\")\n",
    "GenderCount = GenderGroup.nunique()[\"SN\"]\n",
    "GenderPercentage = GenderCount/TotalPlayer*100\n",
    "\n",
    "GenderDemo = pd.DataFrame({'Total Count':GenderCount,'Percentage of Players': GenderPercentage})\n",
    "GenderDemo.style.format({'Percentage of Players':'{:,.2f}%'})"
   ]
  },
  {
   "cell_type": "markdown",
   "metadata": {},
   "source": [
    "\n",
    "## Purchasing Analysis (Gender)"
   ]
  },
  {
   "cell_type": "markdown",
   "metadata": {},
   "source": [
    "* Run basic calculations to obtain purchase count, avg. purchase price, avg. purchase total per person etc. by gender\n",
    "\n",
    "\n",
    "\n",
    "\n",
    "* Create a summary data frame to hold the results\n",
    "\n",
    "\n",
    "* Optional: give the displayed data cleaner formatting\n",
    "\n",
    "\n",
    "* Display the summary data frame"
   ]
  },
  {
   "cell_type": "code",
   "execution_count": null,
   "metadata": {},
   "outputs": [],
   "source": [
    "PurchaseCount = GenderGroup[\"Purchase ID\"].count()\n",
    "AvePurPrice = GenderGroup[\"Price\"].mean()\n",
    "PurTotal = GenderGroup[\"Price\"].sum()\n",
    "AveTotalPur = PurTotal/GenderCount\n",
    "\n",
    "PurAnalysis = pd.DataFrame({\"Purchase Count\": PurchaseCount,\n",
    "                           \"Average Purchase Price\": AvePurPrice,\n",
    "                           \"Total Purchase\": PurTotal,\n",
    "                           \"Average Purchase Per Person\": AveTotalPur})\n",
    "PurAnalysis.style.format({'Average Purchase Price':'${:,.2f}', \n",
    "                         'Total Purchase':'${:,.2f}' ,\n",
    "                         'Average Purchase Per Person':'${:,.2f}'})"
   ]
  },
  {
   "cell_type": "markdown",
   "metadata": {},
   "source": [
    "## Age Demographics"
   ]
  },
  {
   "cell_type": "markdown",
   "metadata": {},
   "source": [
    "* Establish bins for ages\n",
    "\n",
    "\n",
    "* Categorize the existing players using the age bins. Hint: use pd.cut()\n",
    "\n",
    "\n",
    "* Calculate the numbers and percentages by age group\n",
    "\n",
    "\n",
    "* Create a summary data frame to hold the results\n",
    "\n",
    "\n",
    "* Optional: round the percentage column to two decimal points\n",
    "\n",
    "\n",
    "* Display Age Demographics Table\n"
   ]
  },
  {
   "cell_type": "code",
   "execution_count": null,
   "metadata": {},
   "outputs": [],
   "source": [
    "AgeBins = [0, 9.90, 14.90, 19.90, 24.90, 29.90, 34.90, 39.90, 99]\n",
    "GroupName = [\"<10\", \"10-14\", \"15-19\", \"20-24\", \"25-29\", \"30-34\", \"35-39\", \"40+\"]\n",
    "\n",
    "purchase_data[\"Age Group\"] = pd.cut(purchase_data[\"Age\"],AgeBins, labels=GroupName)\n",
    "purchase_data\n",
    "\n",
    "AgeGrouped = purchase_data.groupby(\"Age Group\")\n",
    "TotalCountAge = AgeGrouped[\"SN\"].nunique()\n",
    "PercentageByAge = (TotalCountAge/TotalPlayer) * 100\n",
    "AgeDemo = pd.DataFrame({\"Percentage of Players\": PercentageByAge, \"Total Count\": TotalCountAge})\n",
    "AgeDemo.index.name = None\n",
    "AgeDemo.style.format({\"Percentage of Players\":\"{:,.2f}%\"})"
   ]
  },
  {
   "cell_type": "markdown",
   "metadata": {},
   "source": [
    "## Purchasing Analysis (Age)"
   ]
  },
  {
   "cell_type": "markdown",
   "metadata": {},
   "source": [
    "* Bin the purchase_data data frame by age\n",
    "\n",
    "\n",
    "* Run basic calculations to obtain purchase count, avg. purchase price, avg. purchase total per person etc. in the table below\n",
    "\n",
    "\n",
    "* Create a summary data frame to hold the results\n",
    "\n",
    "\n",
    "* Optional: give the displayed data cleaner formatting\n",
    "\n",
    "\n",
    "* Display the summary data frame"
   ]
  },
  {
   "cell_type": "code",
   "execution_count": null,
   "metadata": {},
   "outputs": [],
   "source": [
    "PurchaseCountAge = AgeGrouped[\"Purchase ID\"].count()\n",
    "AvgPurPriceAge = AgeGrouped[\"Price\"].mean()\n",
    "TotalPurchaseValue = AgeGrouped[\"Price\"].sum()\n",
    "AvgPurPricePerAge = TotalPurchaseValue/TotalCountAge\n",
    "\n",
    "AgeAnalysis = pd.DataFrame({'Purchase Count': PurchaseCountAge, \n",
    "                          'Average Purchase Price': AvgPurPriceAge, \n",
    "                          'Total Purchase Value': TotalPurchaseValue, \n",
    "                          'Average Total Purchase per Person': AvgPurPricePerAge})\n",
    "\n",
    "AgeAnalysis.style.format({'Average Purchase Price':'${:,.2f}', \n",
    "                         'Total Purchase Value':'${:,.2f}',\n",
    "                         'Average Total Purchase per Person': '${:,.2f}'})"
   ]
  },
  {
   "cell_type": "markdown",
   "metadata": {},
   "source": [
    "## Top Spenders"
   ]
  },
  {
   "cell_type": "markdown",
   "metadata": {},
   "source": [
    "* Run basic calculations to obtain the results in the table below\n",
    "\n",
    "\n",
    "* Create a summary data frame to hold the results\n",
    "\n",
    "\n",
    "* Sort the total purchase value column in descending order\n",
    "\n",
    "\n",
    "* Optional: give the displayed data cleaner formatting\n",
    "\n",
    "\n",
    "* Display a preview of the summary data frame\n",
    "\n"
   ]
  },
  {
   "cell_type": "code",
   "execution_count": null,
   "metadata": {},
   "outputs": [],
   "source": [
    "SpenderGroup = purchase_data.groupby(\"SN\")\n",
    "PurchaseCountSpd = SpenderGroup[\"Purchase ID\"].count()\n",
    "AvgPurPriceSpd = SpenderGroup['Price'].mean()\n",
    "PurTotalSpd = SpenderGroup['Price'].sum()\n",
    "\n",
    "TopSpender = pd.DataFrame({'Purchase Count': PurchaseCountSpd, \n",
    "                         'Average Purchase Price': PurchaseCountSpd, \n",
    "                         'Total Purchase Value': PurTotalSpd})\n",
    "\n",
    "SortedTopSpender = TopSpender.sort_values([\"Total Purchase Value\"], ascending=False).head()\n",
    "\n",
    "SortedTopSpender.style.format({\"Average Purchase Price\":'${:,.2f}', \n",
    "                              \"Total Purchase Value\": '${:,.2f}'})"
   ]
  },
  {
   "cell_type": "markdown",
   "metadata": {},
   "source": [
    "## Most Popular Items"
   ]
  },
  {
   "cell_type": "markdown",
   "metadata": {},
   "source": [
    "* Retrieve the Item ID, Item Name, and Item Price columns\n",
    "\n",
    "\n",
    "* Group by Item ID and Item Name. Perform calculations to obtain purchase count, average item price, and total purchase value\n",
    "\n",
    "\n",
    "* Create a summary data frame to hold the results\n",
    "\n",
    "\n",
    "* Sort the purchase count column in descending order\n",
    "\n",
    "\n",
    "* Optional: give the displayed data cleaner formatting\n",
    "\n",
    "\n",
    "* Display a preview of the summary data frame\n",
    "\n"
   ]
  },
  {
   "cell_type": "code",
   "execution_count": null,
   "metadata": {},
   "outputs": [],
   "source": [
    "items = purchase_data[[\"Item ID\", \"Item Name\", \"Price\"]]\n",
    "ItemGroup = purchase_data.groupby([\"Item ID\",\"Item Name\"])\n",
    "PurchaseCountItem = ItemGroup [\"Price\"].count()\n",
    "PurchaseValue = (ItemGroup[\"Price\"].sum())\n",
    "ItemPrice = PurchaseValue/PurchaseCountItem\n",
    "\n",
    "TopItem = pd.DataFrame({\"Purchase Count\": PurchaseCountItem, \n",
    "                       \"Item Price\": ItemPrice,\n",
    "                       \"Total Purchase Value\": PurchaseValue})\n",
    "\n",
    "TopItemSorted = TopItem.sort_values([\"Purchase Count\"], ascending=False).head()\n",
    "\n",
    "TopItemSorted.style.format({\"Item Price\":\"${:,.2f}\", \n",
    "                           \"Total Purchase Value\":\"${:,.2f}\"})"
   ]
  },
  {
   "cell_type": "markdown",
   "metadata": {},
   "source": [
    "## Most Profitable Items"
   ]
  },
  {
   "cell_type": "markdown",
   "metadata": {},
   "source": [
    "* Sort the above table by total purchase value in descending order\n",
    "\n",
    "\n",
    "* Optional: give the displayed data cleaner formatting\n",
    "\n",
    "\n",
    "* Display a preview of the data frame\n",
    "\n"
   ]
  },
  {
   "cell_type": "code",
   "execution_count": null,
   "metadata": {
    "scrolled": true
   },
   "outputs": [],
   "source": [
    "TopItemValue = TopItem.sort_values([\"Total Purchase Value\"], ascending=False).head()\n",
    "\n",
    "TopItemValue.style.format({\"Item Price\":\"${:,.2f}\", \n",
    "                           \"Total Purchase Value\":\"${:,.2f}\"})"
   ]
  },
  {
   "cell_type": "code",
   "execution_count": null,
   "metadata": {},
   "outputs": [],
   "source": []
  },
  {
   "cell_type": "code",
   "execution_count": null,
   "metadata": {},
   "outputs": [],
   "source": []
  },
  {
   "cell_type": "code",
   "execution_count": null,
   "metadata": {},
   "outputs": [],
   "source": []
  }
 ],
 "metadata": {
  "anaconda-cloud": {},
  "kernel_info": {
   "name": "python3"
  },
  "kernelspec": {
   "display_name": "Python 3",
   "language": "python",
   "name": "python3"
  },
  "language_info": {
   "codemirror_mode": {
    "name": "ipython",
    "version": 3
   },
   "file_extension": ".py",
   "mimetype": "text/x-python",
   "name": "python",
   "nbconvert_exporter": "python",
   "pygments_lexer": "ipython3",
   "version": "3.8.8"
  },
  "latex_envs": {
   "LaTeX_envs_menu_present": true,
   "autoclose": false,
   "autocomplete": true,
   "bibliofile": "biblio.bib",
   "cite_by": "apalike",
   "current_citInitial": 1,
   "eqLabelWithNumbers": true,
   "eqNumInitial": 1,
   "hotkeys": {
    "equation": "Ctrl-E",
    "itemize": "Ctrl-I"
   },
   "labels_anchors": false,
   "latex_user_defs": false,
   "report_style_numbering": false,
   "user_envs_cfg": false
  },
  "nteract": {
   "version": "0.2.0"
  }
 },
 "nbformat": 4,
 "nbformat_minor": 4
}
